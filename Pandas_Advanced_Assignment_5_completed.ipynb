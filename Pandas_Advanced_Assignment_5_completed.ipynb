{
  "cells": [
    {
      "cell_type": "markdown",
      "id": "XHvoVqK5mYA-",
      "metadata": {
        "id": "XHvoVqK5mYA-"
      },
      "source": [
        "# <center>Pandas Assignment</center>"
      ]
    },
    {
      "cell_type": "markdown",
      "id": "v9Qb2_aumYBF",
      "metadata": {
        "id": "v9Qb2_aumYBF"
      },
      "source": [
        "Import pandas and numpy with their aliases"
      ]
    },
    {
      "cell_type": "code",
      "execution_count": 7,
      "id": "ihFP1wXZmYBF",
      "metadata": {
        "id": "ihFP1wXZmYBF"
      },
      "outputs": [],
      "source": [
        "import pandas as pd\n",
        "import numpy as np"
      ]
    },
    {
      "cell_type": "code",
      "execution_count": 8,
      "id": "f638642c",
      "metadata": {},
      "outputs": [],
      "source": [
        "# Series\n",
        "s = pd.Series([100, 200, 300], index=['a', 'b', 'c'])\n",
        "\n",
        "# DataFrame\n",
        "df = pd.DataFrame({'Sales': [100, 200, 300]}, index=['a', 'b', 'c'])"
      ]
    },
    {
      "cell_type": "code",
      "execution_count": 9,
      "id": "6fe6d3fe",
      "metadata": {},
      "outputs": [
        {
          "name": "stdout",
          "output_type": "stream",
          "text": [
            "a    100\n",
            "b    200\n",
            "c    300\n",
            "dtype: int64\n",
            "   Sales\n",
            "a    100\n",
            "b    200\n",
            "c    300\n"
          ]
        }
      ],
      "source": [
        "print(s)\n",
        "print(df)"
      ]
    },
    {
      "cell_type": "markdown",
      "id": "0b8hUBhTmYBG",
      "metadata": {
        "id": "0b8hUBhTmYBG"
      },
      "source": [
        "Create a variable a = pd.Series([ 100, 200, 300, 400])"
      ]
    },
    {
      "cell_type": "code",
      "execution_count": 10,
      "id": "hzvzkbNYmYBH",
      "metadata": {
        "id": "hzvzkbNYmYBH"
      },
      "outputs": [],
      "source": [
        "a = pd.Series([ 100, 200, 300, 400])"
      ]
    },
    {
      "cell_type": "markdown",
      "id": "BSyNFbitmYBH",
      "metadata": {
        "id": "BSyNFbitmYBH"
      },
      "source": [
        "Print a, and data type"
      ]
    },
    {
      "cell_type": "code",
      "execution_count": 11,
      "id": "GMmFsjPamYBH",
      "metadata": {
        "id": "GMmFsjPamYBH"
      },
      "outputs": [
        {
          "name": "stdout",
          "output_type": "stream",
          "text": [
            "0    100\n",
            "1    200\n",
            "2    300\n",
            "3    400\n",
            "dtype: int64\n",
            "int64\n"
          ]
        }
      ],
      "source": [
        "print(a)\n",
        "print(a.dtype)"
      ]
    },
    {
      "cell_type": "markdown",
      "id": "z0FryxOXmYBI",
      "metadata": {
        "id": "z0FryxOXmYBI"
      },
      "source": [
        "Using indexing access the element 300 from the series a."
      ]
    },
    {
      "cell_type": "code",
      "execution_count": 12,
      "id": "wERTsh-4mYBJ",
      "metadata": {
        "id": "wERTsh-4mYBJ"
      },
      "outputs": [
        {
          "name": "stdout",
          "output_type": "stream",
          "text": [
            "300\n"
          ]
        }
      ],
      "source": [
        "\n",
        "print(a[2])"
      ]
    },
    {
      "cell_type": "markdown",
      "id": "HHEKyOtemYBJ",
      "metadata": {
        "id": "HHEKyOtemYBJ"
      },
      "source": [
        "What are the values of index for series a?"
      ]
    },
    {
      "cell_type": "code",
      "execution_count": 13,
      "id": "uQOnSJQ4mYBJ",
      "metadata": {
        "id": "uQOnSJQ4mYBJ"
      },
      "outputs": [
        {
          "data": {
            "text/plain": [
              "(0, 1, 2, 3)"
            ]
          },
          "execution_count": 13,
          "metadata": {},
          "output_type": "execute_result"
        }
      ],
      "source": [
        "0, 1, 2, 3"
      ]
    },
    {
      "cell_type": "markdown",
      "id": "EuFjG74wmYBJ",
      "metadata": {
        "id": "EuFjG74wmYBJ"
      },
      "source": [
        "Change the index to  ['c', 'a', 'b', 'd']"
      ]
    },
    {
      "cell_type": "code",
      "execution_count": 14,
      "id": "1ueAAFiJmYBK",
      "metadata": {
        "id": "1ueAAFiJmYBK"
      },
      "outputs": [
        {
          "name": "stdout",
          "output_type": "stream",
          "text": [
            "c    100\n",
            "a    200\n",
            "b    300\n",
            "d    400\n",
            "dtype: int64\n"
          ]
        }
      ],
      "source": [
        "\n",
        "\n",
        "a = pd.Series([100, 200, 300, 400], index=['c', 'a', 'b', 'd'])\n",
        "print(a)\n"
      ]
    },
    {
      "cell_type": "markdown",
      "id": "ZdZLyRO7mYBK",
      "metadata": {
        "id": "ZdZLyRO7mYBK"
      },
      "source": [
        "Access the value in the series with index 'd'"
      ]
    },
    {
      "cell_type": "code",
      "execution_count": 15,
      "id": "oN1ce3GymYBK",
      "metadata": {
        "id": "oN1ce3GymYBK"
      },
      "outputs": [
        {
          "name": "stdout",
          "output_type": "stream",
          "text": [
            "400\n"
          ]
        }
      ],
      "source": [
        "\n",
        "print(a['d'])\n"
      ]
    },
    {
      "cell_type": "markdown",
      "id": "eQSGwKtFmYBK",
      "metadata": {
        "id": "eQSGwKtFmYBK"
      },
      "source": [
        "Sort the values wrt to the index and print it"
      ]
    },
    {
      "cell_type": "code",
      "execution_count": 16,
      "id": "-arvricBmYBL",
      "metadata": {
        "id": "-arvricBmYBL"
      },
      "outputs": [
        {
          "name": "stdout",
          "output_type": "stream",
          "text": [
            "a    200\n",
            "b    300\n",
            "c    100\n",
            "d    400\n",
            "dtype: int64\n"
          ]
        }
      ],
      "source": [
        "a = pd.Series([100, 200, 300, 400], index=['c', 'a', 'b', 'd'])\n",
        "sorted_a = a.sort_index()\n",
        "print(sorted_a)\n"
      ]
    },
    {
      "cell_type": "markdown",
      "id": "g-fXVSK2mYBL",
      "metadata": {
        "id": "g-fXVSK2mYBL"
      },
      "source": [
        "Create a new Pandas Series b having index as 'e', 'f', and 'g' and value 800,450,100 and print it"
      ]
    },
    {
      "cell_type": "code",
      "execution_count": 17,
      "id": "fAg_rI3hmYBL",
      "metadata": {
        "id": "fAg_rI3hmYBL"
      },
      "outputs": [
        {
          "name": "stdout",
          "output_type": "stream",
          "text": [
            "e    800\n",
            "f    450\n",
            "g    100\n",
            "dtype: int64\n"
          ]
        }
      ],
      "source": [
        "# b =\n",
        "\n",
        "b = pd.Series([800,450,100], index = ['e', 'f', 'g'])\n",
        "print(b)\n",
        "\n",
        "\n"
      ]
    },
    {
      "cell_type": "markdown",
      "id": "jWhRRtF1mYBL",
      "metadata": {
        "id": "jWhRRtF1mYBL"
      },
      "source": [
        "Append b series at the end of a series"
      ]
    },
    {
      "cell_type": "code",
      "execution_count": 18,
      "id": "TBV8hkRXmYBL",
      "metadata": {
        "id": "TBV8hkRXmYBL"
      },
      "outputs": [
        {
          "name": "stdout",
          "output_type": "stream",
          "text": [
            "<bound method Series.sort_index of c    100\n",
            "a    200\n",
            "b    300\n",
            "d    400\n",
            "e    800\n",
            "f    450\n",
            "g    100\n",
            "dtype: int64>\n"
          ]
        }
      ],
      "source": [
        "# a =\n",
        "\n",
        "a = pd.concat([a, b])\n",
        "a = a.sort_index\n",
        "print(a)"
      ]
    },
    {
      "cell_type": "code",
      "execution_count": 19,
      "id": "Xfm5WgBYmYBM",
      "metadata": {
        "id": "Xfm5WgBYmYBM"
      },
      "outputs": [
        {
          "name": "stdout",
          "output_type": "stream",
          "text": [
            "<bound method Series.sort_index of c    100\n",
            "a    200\n",
            "b    300\n",
            "d    400\n",
            "e    800\n",
            "f    450\n",
            "g    100\n",
            "dtype: int64>\n"
          ]
        }
      ],
      "source": [
        "#print a again after appending b into it\n",
        "\n",
        "print(a)\n"
      ]
    },
    {
      "cell_type": "markdown",
      "id": "6lz_BR0umYBM",
      "metadata": {
        "id": "6lz_BR0umYBM"
      },
      "source": [
        "Sort the values in descending order of a and print the index of the sorted series"
      ]
    },
    {
      "cell_type": "code",
      "execution_count": 20,
      "id": "5srJV0y0mYBM",
      "metadata": {
        "id": "5srJV0y0mYBM"
      },
      "outputs": [
        {
          "name": "stdout",
          "output_type": "stream",
          "text": [
            "e    800\n",
            "f    450\n",
            "d    400\n",
            "b    300\n",
            "a    200\n",
            "g    100\n",
            "dtype: int64\n"
          ]
        }
      ],
      "source": [
        "# a =\n",
        "a = pd.Series([200, 300, 400, 800, 450, 100], \n",
        "              index=['a', 'b', 'd', 'e', 'f', 'g'])\n",
        "a = a.sort_values(ascending=False)\n",
        "print(a)\n"
      ]
    },
    {
      "cell_type": "code",
      "execution_count": 21,
      "id": "9OxmwQRAmYBM",
      "metadata": {
        "id": "9OxmwQRAmYBM"
      },
      "outputs": [
        {
          "name": "stdout",
          "output_type": "stream",
          "text": [
            "Index(['e', 'f', 'd', 'b', 'a', 'g'], dtype='object')\n"
          ]
        }
      ],
      "source": [
        "\n",
        "print(a.index)\n"
      ]
    },
    {
      "cell_type": "markdown",
      "id": "OQ5gj4romYBM",
      "metadata": {
        "id": "OQ5gj4romYBM"
      },
      "source": [
        "## Pandas DataFrame"
      ]
    },
    {
      "cell_type": "markdown",
      "id": "tD7de_2amYBM",
      "metadata": {
        "id": "tD7de_2amYBM"
      },
      "source": [
        "### Part 1"
      ]
    },
    {
      "cell_type": "markdown",
      "id": "z_nAQa4BmYBN",
      "metadata": {
        "id": "z_nAQa4BmYBN"
      },
      "source": [
        "Create a pandas dataframe df from the series 'a' that we used in the last section, print the dataframe"
      ]
    },
    {
      "cell_type": "code",
      "execution_count": 22,
      "id": "ojD-B6FvmYBN",
      "metadata": {
        "id": "ojD-B6FvmYBN"
      },
      "outputs": [],
      "source": [
        " df_1= pd.DataFrame([200,300,400,500,600,700,800],index=['a', 'b', 'c','d', 'e', 'f', 'g'])\n",
        "\n",
        "\n"
      ]
    },
    {
      "cell_type": "code",
      "execution_count": 23,
      "id": "2r2SyCYNmYBN",
      "metadata": {
        "id": "2r2SyCYNmYBN"
      },
      "outputs": [
        {
          "name": "stdout",
          "output_type": "stream",
          "text": [
            "e    800\n",
            "f    450\n",
            "d    400\n",
            "b    300\n",
            "a    200\n",
            "g    100\n",
            "dtype: int64\n"
          ]
        }
      ],
      "source": [
        "print(a)"
      ]
    },
    {
      "cell_type": "markdown",
      "id": "yzrIH3irmYBN",
      "metadata": {
        "id": "yzrIH3irmYBN"
      },
      "source": [
        "What is the shape of the datafarme <br>\n",
        "(also, what does it imply?)"
      ]
    },
    {
      "cell_type": "code",
      "execution_count": 24,
      "id": "aFo5tNrVmYBN",
      "metadata": {
        "id": "aFo5tNrVmYBN"
      },
      "outputs": [
        {
          "name": "stdout",
          "output_type": "stream",
          "text": [
            "(6,)\n"
          ]
        }
      ],
      "source": [
        "print(a.shape)"
      ]
    },
    {
      "cell_type": "markdown",
      "id": "Dl0Hr0LSmYBO",
      "metadata": {
        "id": "Dl0Hr0LSmYBO"
      },
      "source": [
        "Hey! remember shape (7,1) implies dataframe has 7 rows and 1 column."
      ]
    },
    {
      "cell_type": "markdown",
      "id": "hwcaXl43mYBO",
      "metadata": {
        "id": "hwcaXl43mYBO"
      },
      "source": [
        "What is the index of the dataframe, is it same as the series 'a'"
      ]
    },
    {
      "cell_type": "code",
      "execution_count": 25,
      "id": "1-gMxT-emYBO",
      "metadata": {
        "id": "1-gMxT-emYBO"
      },
      "outputs": [
        {
          "ename": "NameError",
          "evalue": "name 'same' is not defined",
          "output_type": "error",
          "traceback": [
            "\u001b[31m---------------------------------------------------------------------------\u001b[39m",
            "\u001b[31mNameError\u001b[39m                                 Traceback (most recent call last)",
            "\u001b[36mCell\u001b[39m\u001b[36m \u001b[39m\u001b[32mIn[25]\u001b[39m\u001b[32m, line 3\u001b[39m\n\u001b[32m      1\u001b[39m \u001b[38;5;66;03m# yep its same as the series.\u001b[39;00m\n\u001b[32m----> \u001b[39m\u001b[32m3\u001b[39m \u001b[43msame\u001b[49m\n",
            "\u001b[31mNameError\u001b[39m: name 'same' is not defined"
          ]
        }
      ],
      "source": [
        "# yep its same as the series.\n",
        "\n",
        "same"
      ]
    },
    {
      "cell_type": "markdown",
      "id": "C5wadnBymYBO",
      "metadata": {
        "id": "C5wadnBymYBO"
      },
      "source": [
        "print the head and tail of the dataframe. <br>\n",
        "Additional - (what does head and tali represent?)"
      ]
    },
    {
      "cell_type": "code",
      "execution_count": null,
      "id": "U2vxYrPnmYBO",
      "metadata": {
        "id": "U2vxYrPnmYBO"
      },
      "outputs": [
        {
          "name": "stdout",
          "output_type": "stream",
          "text": [
            "     0\n",
            "a  200\n",
            "b  300\n",
            "c  400\n",
            "d  500\n",
            "e  600\n"
          ]
        }
      ],
      "source": [
        "\n",
        "print(a.head())\n"
      ]
    },
    {
      "cell_type": "code",
      "execution_count": null,
      "id": "nikOdGC_mYBO",
      "metadata": {
        "id": "nikOdGC_mYBO"
      },
      "outputs": [
        {
          "name": "stdout",
          "output_type": "stream",
          "text": [
            "     0\n",
            "c  400\n",
            "d  500\n",
            "e  600\n",
            "f  700\n",
            "g  800\n"
          ]
        }
      ],
      "source": [
        "print(a.tail())"
      ]
    },
    {
      "cell_type": "markdown",
      "id": "Ci2tiwbBmYBO",
      "metadata": {
        "id": "Ci2tiwbBmYBO"
      },
      "source": [
        "Rename the column of the dataframe as 'points'"
      ]
    },
    {
      "cell_type": "code",
      "execution_count": null,
      "id": "K3OsbVD3mYBP",
      "metadata": {
        "id": "K3OsbVD3mYBP"
      },
      "outputs": [],
      "source": [
        "points = a"
      ]
    },
    {
      "cell_type": "markdown",
      "id": "bBV0VfzzmYBP",
      "metadata": {
        "id": "bBV0VfzzmYBP"
      },
      "source": [
        "Create another Series 'fruits', which contains random names of fruits from ['orange','mango','apple']. The series should contain 7 elements, randomly selected from ['orange','mango','apple']"
      ]
    },
    {
      "cell_type": "code",
      "execution_count": null,
      "id": "baUmpsuhmYBP",
      "metadata": {
        "id": "baUmpsuhmYBP"
      },
      "outputs": [],
      "source": [
        "#Create fruits array\n",
        "import random\n",
        "fruit_choices = ['orange','mango','apple']\n",
        "\n",
        "\n"
      ]
    },
    {
      "cell_type": "code",
      "execution_count": null,
      "id": "QrbnjM8FmYBP",
      "metadata": {
        "id": "QrbnjM8FmYBP"
      },
      "outputs": [
        {
          "name": "stdout",
          "output_type": "stream",
          "text": [
            "a     mango\n",
            "b     apple\n",
            "c     apple\n",
            "d    orange\n",
            "e     apple\n",
            "f     mango\n",
            "g     apple\n",
            "dtype: object\n"
          ]
        }
      ],
      "source": [
        "#Create series fruits out of fruits array\n",
        "\n",
        "# fruits =\n",
        "fruits = pd.Series(random.choices(fruit_choices, k =7), index=['a', 'b', 'c', 'd', 'e', 'f', 'g'])\n",
        "\n",
        "print(fruits)\n",
        "\n"
      ]
    },
    {
      "cell_type": "markdown",
      "id": "20slMbq5mYBP",
      "metadata": {
        "id": "20slMbq5mYBP"
      },
      "source": [
        "Change the index of fruits to the index of dataframe df"
      ]
    },
    {
      "cell_type": "code",
      "execution_count": null,
      "id": "fa72cf62",
      "metadata": {},
      "outputs": [],
      "source": [
        "fruits.index = a.index"
      ]
    },
    {
      "cell_type": "markdown",
      "id": "oPv8dJ_2mYBQ",
      "metadata": {
        "id": "oPv8dJ_2mYBQ"
      },
      "source": [
        "Add this fruits series as a new column to the dataframe df with its column name as 'fruits'\n",
        "<br>print the head of the dataframe to verify"
      ]
    },
    {
      "cell_type": "code",
      "execution_count": null,
      "id": "tit_GDscmYBQ",
      "metadata": {
        "id": "tit_GDscmYBQ"
      },
      "outputs": [
        {
          "name": "stdout",
          "output_type": "stream",
          "text": [
            "a    Orange\n",
            "b    Orange\n",
            "c    Grapes\n",
            "d    Orange\n",
            "e     Apple\n",
            "f    Orange\n",
            "g     Mango\n",
            "dtype: object\n",
            "     0  fruits\n",
            "a  200  Orange\n",
            "b  300  Orange\n",
            "c  400  Grapes\n",
            "d  500  Orange\n",
            "e  600   Apple\n"
          ]
        }
      ],
      "source": [
        "\n",
        "import pandas as pd\n",
        "import random\n",
        "\n",
        "# Sample list of fruits to choose from\n",
        "fruit_choices = ['Apple', 'Banana', 'Orange', 'Grapes', 'Mango']\n",
        "\n",
        "# Create the DataFrame and Series\n",
        "df = pd.DataFrame([200, 300, 400, 500, 600, 700, 800], index=['a', 'b', 'c', 'd', 'e', 'f', 'g'])\n",
        "fruits = pd.Series(random.choices(fruit_choices, k=7), index=['a', 'b', 'c', 'd', 'e', 'f', 'g'])\n",
        "\n",
        "# Print the fruits Series\n",
        "print(fruits)\n",
        "\n",
        "# Add the fruits series as a new column to the DataFrame\n",
        "df['fruits'] = fruits\n",
        "\n",
        "# Print the head of the DataFrame to verify\n",
        "print(df.head())\n",
        "\n",
        "\n"
      ]
    },
    {
      "cell_type": "markdown",
      "id": "ACsvenslmYBQ",
      "metadata": {
        "id": "ACsvenslmYBQ"
      },
      "source": [
        "## Pandas Concatenation"
      ]
    },
    {
      "cell_type": "markdown",
      "id": "cwgg82N0mYBQ",
      "metadata": {
        "id": "cwgg82N0mYBQ"
      },
      "source": [
        "Create a dataframe  d1 where the cols are  ‘city’ : [‘Chandigarh’, ‘Delhi’, ‘Kanpur’, ‘Chennai’, ‘Manali’ ] and ‘Temperature’ : [15, 22, 20, 26,-2]"
      ]
    },
    {
      "cell_type": "code",
      "execution_count": 26,
      "id": "09tWwU18mYBR",
      "metadata": {
        "id": "09tWwU18mYBR"
      },
      "outputs": [],
      "source": [
        "# d1 =\n",
        "data = {\n",
        "    'city': ['chandigarh', 'Delhi', 'Kanpur', 'Chennai', 'Manali'],\n",
        "    'Temperature' : [15,22,20, 26, -2]}\n",
        "d1 = pd.DataFrame(data)\n"
      ]
    },
    {
      "cell_type": "markdown",
      "id": "XAquuUx_mYBR",
      "metadata": {
        "id": "XAquuUx_mYBR"
      },
      "source": [
        "Print(d1)"
      ]
    },
    {
      "cell_type": "code",
      "execution_count": null,
      "id": "tEaf6dUVmYBR",
      "metadata": {
        "id": "tEaf6dUVmYBR"
      },
      "outputs": [
        {
          "name": "stdout",
          "output_type": "stream",
          "text": [
            "         city  Temperature\n",
            "0  chandigarh           15\n",
            "1       Delhi           22\n",
            "2      Kanpur           20\n",
            "3     Chennai           26\n",
            "4      Manali           -2\n"
          ]
        }
      ],
      "source": [
        "\n",
        "print(d1)\n",
        "\n"
      ]
    },
    {
      "cell_type": "markdown",
      "id": "YmZ9u-4FmYBR",
      "metadata": {
        "id": "YmZ9u-4FmYBR"
      },
      "source": [
        "What is the shape of d1."
      ]
    },
    {
      "cell_type": "code",
      "execution_count": null,
      "id": "upPyfWR7mYBR",
      "metadata": {
        "id": "upPyfWR7mYBR"
      },
      "outputs": [
        {
          "name": "stdout",
          "output_type": "stream",
          "text": [
            "(5, 2)\n"
          ]
        }
      ],
      "source": [
        "\n",
        "print(d1.shape)\n",
        "\n"
      ]
    },
    {
      "cell_type": "markdown",
      "id": "JtBQ5SLtmYBS",
      "metadata": {
        "id": "JtBQ5SLtmYBS"
      },
      "source": [
        "Set city = d1['city']"
      ]
    },
    {
      "cell_type": "code",
      "execution_count": null,
      "id": "mzE78QzrmYBS",
      "metadata": {
        "id": "mzE78QzrmYBS"
      },
      "outputs": [],
      "source": [
        "\n",
        "city = d1['city']\n"
      ]
    },
    {
      "cell_type": "markdown",
      "id": "WubWnFIcmYBS",
      "metadata": {
        "id": "WubWnFIcmYBS"
      },
      "source": [
        "print city <br>\n",
        "What is the type of city."
      ]
    },
    {
      "cell_type": "code",
      "execution_count": null,
      "id": "6d4EjYTemYBS",
      "metadata": {
        "id": "6d4EjYTemYBS"
      },
      "outputs": [
        {
          "name": "stdout",
          "output_type": "stream",
          "text": [
            "<class 'pandas.core.series.Series'>\n"
          ]
        }
      ],
      "source": [
        "print(type(city))"
      ]
    },
    {
      "cell_type": "markdown",
      "id": "uUdrLgg6mYBS",
      "metadata": {
        "id": "uUdrLgg6mYBS"
      },
      "source": [
        "Create another datafeame 'd2' where the columns are <br>\n",
        "'city' - ['Bengalaru','Coimbatore','Srirangam','Pondicherry'] <br>\n",
        "'Temperature' - [24,35,36,39]"
      ]
    },
    {
      "cell_type": "code",
      "execution_count": 29,
      "id": "CFBCGcvhmYBS",
      "metadata": {
        "id": "CFBCGcvhmYBS"
      },
      "outputs": [],
      "source": [
        "#d2 =\n",
        "\n",
        "data_2 = {\n",
        "    'city': ['Bengalore', 'Coimbatore', 'Srirangam', 'pondicherry'],\n",
        "    'Temperature': [24, 35, 36, 39] \n",
        "}\n",
        "\n",
        "d2 = pd.DataFrame(data_2)"
      ]
    },
    {
      "cell_type": "markdown",
      "id": "HivVdLN5mYBT",
      "metadata": {
        "id": "HivVdLN5mYBT"
      },
      "source": [
        "print the shape of this dataframe"
      ]
    },
    {
      "cell_type": "code",
      "execution_count": null,
      "id": "9FFgtQJhmYBT",
      "metadata": {
        "id": "9FFgtQJhmYBT"
      },
      "outputs": [
        {
          "name": "stdout",
          "output_type": "stream",
          "text": [
            "(4, 2)\n"
          ]
        }
      ],
      "source": [
        "print(d2.shape)"
      ]
    },
    {
      "cell_type": "markdown",
      "id": "UK38h5ktmYBT",
      "metadata": {
        "id": "UK38h5ktmYBT"
      },
      "source": [
        "merge the two dataframes together, save it in a new dataframe named 'd3'"
      ]
    },
    {
      "cell_type": "code",
      "execution_count": 30,
      "id": "GMbOPfjCmYBT",
      "metadata": {
        "id": "GMbOPfjCmYBT"
      },
      "outputs": [
        {
          "name": "stdout",
          "output_type": "stream",
          "text": [
            "          city  Temperature\n",
            "0   chandigarh           15\n",
            "1        Delhi           22\n",
            "2       Kanpur           20\n",
            "3      Chennai           26\n",
            "4       Manali           -2\n",
            "5    Bengalore           24\n",
            "6   Coimbatore           35\n",
            "7    Srirangam           36\n",
            "8  pondicherry           39\n"
          ]
        }
      ],
      "source": [
        "# d3 =\n",
        "\n",
        "d3 = pd.concat([d1,d2], ignore_index = True)\n",
        "print(d3)\n"
      ]
    },
    {
      "cell_type": "markdown",
      "id": "1dGlNGzjmYBT",
      "metadata": {
        "id": "1dGlNGzjmYBT"
      },
      "source": [
        "Select the part of the dataframe such that it contains cities wherer temp is less then or equal to 20 <br>\n",
        "How many cities are there?"
      ]
    },
    {
      "cell_type": "code",
      "execution_count": null,
      "id": "1vtC2UkgmYBT",
      "metadata": {
        "id": "1vtC2UkgmYBT"
      },
      "outputs": [
        {
          "name": "stdout",
          "output_type": "stream",
          "text": [
            "         city  Temperature\n",
            "0  chandigarh           15\n",
            "2      Kanpur           20\n",
            "4      Manali           -2\n"
          ]
        }
      ],
      "source": [
        "filtered = d3[d3['Temperature']<=20]\n",
        "\n",
        "print(filtered)\n",
        "\n"
      ]
    },
    {
      "cell_type": "markdown",
      "id": "82QIQRQUmYBT",
      "metadata": {
        "id": "82QIQRQUmYBT"
      },
      "source": [
        "Select the part of the dataframe such that it contains the cities where tempearature greater than or equal to 35"
      ]
    },
    {
      "cell_type": "code",
      "execution_count": null,
      "id": "Ea_hMtyGmYBU",
      "metadata": {
        "id": "Ea_hMtyGmYBU"
      },
      "outputs": [
        {
          "name": "stdout",
          "output_type": "stream",
          "text": [
            "          city  Temperature\n",
            "6   Coimbatore           35\n",
            "7    Srirangam           36\n",
            "8  pondicherry           39\n"
          ]
        }
      ],
      "source": [
        "filtered_2 = d3[d3['Temperature']>=35]\n",
        "print(filtered_2)\n"
      ]
    },
    {
      "cell_type": "markdown",
      "id": "BrYscXpWmYBU",
      "metadata": {
        "id": "BrYscXpWmYBU"
      },
      "source": [
        "## Applying functions to columns and creating new columns"
      ]
    },
    {
      "cell_type": "markdown",
      "id": "7Z4ioDxtmYBU",
      "metadata": {
        "id": "7Z4ioDxtmYBU"
      },
      "source": [
        "We need to create another column in d3, which contains  a boolean value for each city to indicate whether it's a union territory or not.\n",
        "- HINT: Chandigarh, Pondicherry and Delhi are only 3 union territories here.\n"
      ]
    },
    {
      "cell_type": "code",
      "execution_count": null,
      "id": "FR2wgv6tmYBU",
      "metadata": {
        "id": "FR2wgv6tmYBU"
      },
      "outputs": [],
      "source": [
        "# write function here\n",
        "\n",
        "def is_ut(city_name):\n",
        "    return city_name.lower() in ['chandigarh','pondicherry', 'delhi']\n",
        "\n",
        "d3['is_ut'] = d3['city'].apply(is_ut)\n"
      ]
    },
    {
      "cell_type": "code",
      "execution_count": null,
      "id": "0hd7QjComYBU",
      "metadata": {
        "id": "0hd7QjComYBU"
      },
      "outputs": [
        {
          "name": "stdout",
          "output_type": "stream",
          "text": [
            "          city  Temperature  is_ut  is_union_territory\n",
            "0   chandigarh           15   True                True\n",
            "1        Delhi           22   True                True\n",
            "2       Kanpur           20  False               False\n",
            "3      Chennai           26  False               False\n",
            "4       Manali           -2  False               False\n",
            "5    Bengalore           24  False               False\n",
            "6   Coimbatore           35  False               False\n",
            "7    Srirangam           36  False               False\n",
            "8  pondicherry           39   True                True\n"
          ]
        }
      ],
      "source": [
        "print(d3)\n",
        "\n"
      ]
    },
    {
      "cell_type": "markdown",
      "id": "z88YETlMmYBU",
      "metadata": {
        "id": "z88YETlMmYBU"
      },
      "source": [
        "The temperatures mentioned in ‘Temperature’ column are mentioned in Celsius, we need another column which contains the same in Fahrenheit."
      ]
    },
    {
      "cell_type": "markdown",
      "id": "ywp07m-xmYBU",
      "metadata": {
        "id": "ywp07m-xmYBU"
      },
      "source": [
        "HINT -\n",
        "- Define a function c_to_f which takes input temp in celsius and returns a value with temperature in Fahrenheit.\n",
        "- To check: c_to_f(10) should return 50.\n"
      ]
    },
    {
      "cell_type": "code",
      "execution_count": null,
      "id": "V0x_0IAAmYBV",
      "metadata": {
        "id": "V0x_0IAAmYBV"
      },
      "outputs": [],
      "source": [
        "# write function here\n",
        "\n",
        "def c_to_f(c):\n",
        "    farenhiet = (c*9/5) +32\n",
        "    return farenhiet\n",
        "\n",
        "\n",
        "\n"
      ]
    },
    {
      "cell_type": "code",
      "execution_count": null,
      "id": "Wc9meranmYBV",
      "metadata": {
        "id": "Wc9meranmYBV"
      },
      "outputs": [
        {
          "data": {
            "text/plain": [
              "50.0"
            ]
          },
          "execution_count": 4,
          "metadata": {},
          "output_type": "execute_result"
        }
      ],
      "source": [
        "# check function c_to_f(10)\n",
        "\n",
        "c_to_f(10)\n"
      ]
    },
    {
      "cell_type": "code",
      "execution_count": 32,
      "id": "H79GUcoImYBV",
      "metadata": {
        "id": "H79GUcoImYBV"
      },
      "outputs": [
        {
          "name": "stdout",
          "output_type": "stream",
          "text": [
            "          city  Temperature  temp_fahrenheit\n",
            "0   chandigarh           15             59.0\n",
            "1        Delhi           22             71.6\n",
            "2       Kanpur           20             68.0\n",
            "3      Chennai           26             78.8\n",
            "4       Manali           -2             28.4\n",
            "5    Bengalore           24             75.2\n",
            "6   Coimbatore           35             95.0\n",
            "7    Srirangam           36             96.8\n",
            "8  pondicherry           39            102.2\n"
          ]
        }
      ],
      "source": [
        "# apply function c_to_f to d3 to create a column 'temp_farenhiet'\n",
        "\n",
        "d3['temp_fahrenheit'] = d3['Temperature'].apply(c_to_f)\n",
        "print(d3)\n"
      ]
    },
    {
      "cell_type": "markdown",
      "id": "Wj0p6JKHmYBV",
      "metadata": {
        "id": "Wj0p6JKHmYBV"
      },
      "source": [
        "## Indexing and selecting rows in DataFrame"
      ]
    },
    {
      "cell_type": "markdown",
      "id": "fFitRJy2mYBV",
      "metadata": {
        "id": "fFitRJy2mYBV"
      },
      "source": [
        "Select subset of the dataframe d1 such that it contains the cities which are union territories."
      ]
    },
    {
      "cell_type": "code",
      "execution_count": 33,
      "id": "Kg8OSVz0mYBV",
      "metadata": {
        "id": "Kg8OSVz0mYBV"
      },
      "outputs": [
        {
          "name": "stdout",
          "output_type": "stream",
          "text": [
            "          city  Temperature  temp_fahrenheit\n",
            "0   chandigarh           15             59.0\n",
            "1        Delhi           22             71.6\n",
            "8  pondicherry           39            102.2\n"
          ]
        }
      ],
      "source": [
        "\n",
        "# List of UT cities (in lowercase for case-insensitive comparison)\n",
        "ut_cities = ['chandigarh', 'delhi', 'pondicherry']\n",
        "\n",
        "# Filter the dataframe for UT cities (case-insensitive match)\n",
        "d1_ut = d3[d3['city'].str.lower().isin(ut_cities)]\n",
        "\n",
        "# Display result\n",
        "print(d1_ut)\n",
        "\n"
      ]
    },
    {
      "cell_type": "markdown",
      "id": "XnxQl4ZPmYBV",
      "metadata": {
        "id": "XnxQl4ZPmYBV"
      },
      "source": [
        "Select a subset of the dataframe d1 such that it contains the cities which only have temperature above 90 Farenhiet."
      ]
    },
    {
      "cell_type": "code",
      "execution_count": 38,
      "id": "9o62VSn7mYBV",
      "metadata": {
        "id": "9o62VSn7mYBV"
      },
      "outputs": [
        {
          "name": "stdout",
          "output_type": "stream",
          "text": [
            "          city  Temperature  temp_fahrenheit\n",
            "6   Coimbatore           35             95.0\n",
            "7    Srirangam           36             96.8\n",
            "8  pondicherry           39            102.2\n"
          ]
        }
      ],
      "source": [
        "\n",
        "filtered = d3[d3['temp_fahrenheit']>=90]\n",
        "print(filtered)\n"
      ]
    },
    {
      "cell_type": "markdown",
      "id": "IQq7K2EtmYBW",
      "metadata": {
        "id": "IQq7K2EtmYBW"
      },
      "source": [
        "Select only the first three rows of the dataframe d1.\n"
      ]
    },
    {
      "cell_type": "code",
      "execution_count": 39,
      "id": "PlmVOyAAmYBW",
      "metadata": {
        "id": "PlmVOyAAmYBW"
      },
      "outputs": [
        {
          "name": "stdout",
          "output_type": "stream",
          "text": [
            "         city  Temperature  temp_fahrenheit\n",
            "0  chandigarh           15             59.0\n",
            "1       Delhi           22             71.6\n",
            "2      Kanpur           20             68.0\n"
          ]
        }
      ],
      "source": [
        "print(d3.head(3))"
      ]
    },
    {
      "cell_type": "markdown",
      "id": "MKNIbwW2mYBW",
      "metadata": {
        "id": "MKNIbwW2mYBW"
      },
      "source": [
        "Select all the rows and last two columns in the dataframe.\n",
        "\n"
      ]
    },
    {
      "cell_type": "code",
      "execution_count": 41,
      "id": "WfQasVJImYBW",
      "metadata": {
        "id": "WfQasVJImYBW"
      },
      "outputs": [
        {
          "name": "stdout",
          "output_type": "stream",
          "text": [
            "   Temperature  temp_fahrenheit\n",
            "0           15             59.0\n",
            "1           22             71.6\n",
            "2           20             68.0\n",
            "3           26             78.8\n",
            "4           -2             28.4\n",
            "5           24             75.2\n",
            "6           35             95.0\n",
            "7           36             96.8\n",
            "8           39            102.2\n"
          ]
        }
      ],
      "source": [
        "subset = d3.iloc[:,-2:]\n",
        "print(subset)\n"
      ]
    },
    {
      "cell_type": "markdown",
      "id": "LQ9xspkHmYBW",
      "metadata": {
        "id": "LQ9xspkHmYBW"
      },
      "source": [
        "## Groupby"
      ]
    },
    {
      "cell_type": "code",
      "execution_count": 42,
      "id": "IhPmh2qSUIfI",
      "metadata": {
        "id": "IhPmh2qSUIfI"
      },
      "outputs": [
        {
          "name": "stdout",
          "output_type": "stream",
          "text": [
            "  Employee Department Region  Sales\n",
            "0    Alice      Sales  North   2500\n",
            "1      Bob      Sales  South   2700\n",
            "2  Charlie         HR  North   1800\n",
            "3    Alice      Sales  South   3000\n",
            "4      Bob      Sales  North   2600\n",
            "5    David         HR  South   2200\n",
            "6      Eve         IT  North   3100\n",
            "7  Charlie         HR  South   1900\n",
            "8      Eve         IT  North   3300\n"
          ]
        }
      ],
      "source": [
        "# Create a dataframe using dictionary of your choice\n",
        "\n",
        "data = {\n",
        "    'Employee': ['Alice', 'Bob', 'Charlie', 'Alice', 'Bob', 'David', 'Eve', 'Charlie', 'Eve'],\n",
        "    'Department': ['Sales', 'Sales', 'HR', 'Sales', 'Sales', 'HR', 'IT', 'HR', 'IT'],\n",
        "    'Region': ['North', 'South', 'North', 'South', 'North', 'South', 'North', 'South', 'North'],\n",
        "    'Sales': [2500, 2700, 1800, 3000, 2600, 2200, 3100, 1900, 3300]\n",
        "}\n",
        "\n",
        "df = pd.DataFrame(data)\n",
        "\n",
        "print(df)\n",
        "\n",
        "\n"
      ]
    },
    {
      "cell_type": "code",
      "execution_count": 43,
      "id": "x8loPsRaUIfJ",
      "metadata": {
        "id": "x8loPsRaUIfJ"
      },
      "outputs": [
        {
          "data": {
            "text/html": [
              "<div>\n",
              "<style scoped>\n",
              "    .dataframe tbody tr th:only-of-type {\n",
              "        vertical-align: middle;\n",
              "    }\n",
              "\n",
              "    .dataframe tbody tr th {\n",
              "        vertical-align: top;\n",
              "    }\n",
              "\n",
              "    .dataframe thead th {\n",
              "        text-align: right;\n",
              "    }\n",
              "</style>\n",
              "<table border=\"1\" class=\"dataframe\">\n",
              "  <thead>\n",
              "    <tr style=\"text-align: right;\">\n",
              "      <th></th>\n",
              "      <th>Employee</th>\n",
              "      <th>Region</th>\n",
              "      <th>Sales</th>\n",
              "    </tr>\n",
              "    <tr>\n",
              "      <th>Department</th>\n",
              "      <th></th>\n",
              "      <th></th>\n",
              "      <th></th>\n",
              "    </tr>\n",
              "  </thead>\n",
              "  <tbody>\n",
              "    <tr>\n",
              "      <th>HR</th>\n",
              "      <td>CharlieDavidCharlie</td>\n",
              "      <td>NorthSouthSouth</td>\n",
              "      <td>5900</td>\n",
              "    </tr>\n",
              "    <tr>\n",
              "      <th>IT</th>\n",
              "      <td>EveEve</td>\n",
              "      <td>NorthNorth</td>\n",
              "      <td>6400</td>\n",
              "    </tr>\n",
              "    <tr>\n",
              "      <th>Sales</th>\n",
              "      <td>AliceBobAliceBob</td>\n",
              "      <td>NorthSouthSouthNorth</td>\n",
              "      <td>10800</td>\n",
              "    </tr>\n",
              "  </tbody>\n",
              "</table>\n",
              "</div>"
            ],
            "text/plain": [
              "                       Employee                Region  Sales\n",
              "Department                                                  \n",
              "HR          CharlieDavidCharlie       NorthSouthSouth   5900\n",
              "IT                       EveEve            NorthNorth   6400\n",
              "Sales          AliceBobAliceBob  NorthSouthSouthNorth  10800"
            ]
          },
          "execution_count": 43,
          "metadata": {},
          "output_type": "execute_result"
        }
      ],
      "source": [
        "# Use Groupby of single column with aggregate sum()\n",
        "\n",
        "df.groupby('Department').sum()\n"
      ]
    },
    {
      "cell_type": "code",
      "execution_count": 44,
      "id": "VIWxl25_UIfK",
      "metadata": {
        "id": "VIWxl25_UIfK"
      },
      "outputs": [
        {
          "data": {
            "text/html": [
              "<div>\n",
              "<style scoped>\n",
              "    .dataframe tbody tr th:only-of-type {\n",
              "        vertical-align: middle;\n",
              "    }\n",
              "\n",
              "    .dataframe tbody tr th {\n",
              "        vertical-align: top;\n",
              "    }\n",
              "\n",
              "    .dataframe thead th {\n",
              "        text-align: right;\n",
              "    }\n",
              "</style>\n",
              "<table border=\"1\" class=\"dataframe\">\n",
              "  <thead>\n",
              "    <tr style=\"text-align: right;\">\n",
              "      <th></th>\n",
              "      <th>Employee</th>\n",
              "      <th>Region</th>\n",
              "      <th>Sales</th>\n",
              "    </tr>\n",
              "    <tr>\n",
              "      <th>Department</th>\n",
              "      <th></th>\n",
              "      <th></th>\n",
              "      <th></th>\n",
              "    </tr>\n",
              "  </thead>\n",
              "  <tbody>\n",
              "    <tr>\n",
              "      <th>HR</th>\n",
              "      <td>3</td>\n",
              "      <td>3</td>\n",
              "      <td>3</td>\n",
              "    </tr>\n",
              "    <tr>\n",
              "      <th>IT</th>\n",
              "      <td>2</td>\n",
              "      <td>2</td>\n",
              "      <td>2</td>\n",
              "    </tr>\n",
              "    <tr>\n",
              "      <th>Sales</th>\n",
              "      <td>4</td>\n",
              "      <td>4</td>\n",
              "      <td>4</td>\n",
              "    </tr>\n",
              "  </tbody>\n",
              "</table>\n",
              "</div>"
            ],
            "text/plain": [
              "            Employee  Region  Sales\n",
              "Department                         \n",
              "HR                 3       3      3\n",
              "IT                 2       2      2\n",
              "Sales              4       4      4"
            ]
          },
          "execution_count": 44,
          "metadata": {},
          "output_type": "execute_result"
        }
      ],
      "source": [
        "# Use Groupby of single column with aggregate count()\n",
        "\n",
        "df.groupby('Department').count()"
      ]
    },
    {
      "cell_type": "code",
      "execution_count": 56,
      "id": "KRG71Pa8UIfK",
      "metadata": {
        "id": "KRG71Pa8UIfK"
      },
      "outputs": [
        {
          "data": {
            "text/plain": [
              "Department\n",
              "HR       1800\n",
              "IT       3100\n",
              "Sales    2500\n",
              "Name: Sales, dtype: int64"
            ]
          },
          "execution_count": 56,
          "metadata": {},
          "output_type": "execute_result"
        }
      ],
      "source": [
        "# Use Groupby of single column with aggregate min() and max()\n",
        "df.groupby('Department')['Sales'].min()\n"
      ]
    },
    {
      "cell_type": "code",
      "execution_count": 57,
      "id": "a0f96145",
      "metadata": {},
      "outputs": [
        {
          "data": {
            "text/plain": [
              "Department\n",
              "HR       2200\n",
              "IT       3300\n",
              "Sales    3000\n",
              "Name: Sales, dtype: int64"
            ]
          },
          "execution_count": 57,
          "metadata": {},
          "output_type": "execute_result"
        }
      ],
      "source": [
        "df.groupby('Department')['Sales'].max()"
      ]
    },
    {
      "cell_type": "code",
      "execution_count": 50,
      "id": "2p6HydpzUIfK",
      "metadata": {
        "id": "2p6HydpzUIfK"
      },
      "outputs": [
        {
          "data": {
            "text/plain": [
              "Region\n",
              "North    2660.0\n",
              "South    2450.0\n",
              "Name: Sales, dtype: float64"
            ]
          },
          "execution_count": 50,
          "metadata": {},
          "output_type": "execute_result"
        }
      ],
      "source": [
        "# Use Groupby of any 2 columns with aggregate mean()\n",
        "\n",
        "df.groupby('Region')['Sales'].mean()\n"
      ]
    },
    {
      "cell_type": "code",
      "execution_count": null,
      "id": "K0IPfvYJUIfL",
      "metadata": {
        "id": "K0IPfvYJUIfL"
      },
      "outputs": [
        {
          "data": {
            "text/html": [
              "<div>\n",
              "<style scoped>\n",
              "    .dataframe tbody tr th:only-of-type {\n",
              "        vertical-align: middle;\n",
              "    }\n",
              "\n",
              "    .dataframe tbody tr th {\n",
              "        vertical-align: top;\n",
              "    }\n",
              "\n",
              "    .dataframe thead th {\n",
              "        text-align: right;\n",
              "    }\n",
              "</style>\n",
              "<table border=\"1\" class=\"dataframe\">\n",
              "  <thead>\n",
              "    <tr style=\"text-align: right;\">\n",
              "      <th></th>\n",
              "      <th>Sales</th>\n",
              "    </tr>\n",
              "    <tr>\n",
              "      <th>Department</th>\n",
              "      <th></th>\n",
              "    </tr>\n",
              "  </thead>\n",
              "  <tbody>\n",
              "    <tr>\n",
              "      <th>HR</th>\n",
              "      <td>2200</td>\n",
              "    </tr>\n",
              "    <tr>\n",
              "      <th>IT</th>\n",
              "      <td>3300</td>\n",
              "    </tr>\n",
              "    <tr>\n",
              "      <th>Sales</th>\n",
              "      <td>3000</td>\n",
              "    </tr>\n",
              "  </tbody>\n",
              "</table>\n",
              "</div>"
            ],
            "text/plain": [
              "            Sales\n",
              "Department       \n",
              "HR           2200\n",
              "IT           3300\n",
              "Sales        3000"
            ]
          },
          "execution_count": 54,
          "metadata": {},
          "output_type": "execute_result"
        }
      ],
      "source": [
        "# Use Groupby of any 2 columns with aggregate min() and max()\n",
        "\n",
        "df.groupby('Department')['Sales'].min()\n"
      ]
    },
    {
      "cell_type": "code",
      "execution_count": 55,
      "id": "d96b05e2",
      "metadata": {},
      "outputs": [
        {
          "data": {
            "text/html": [
              "<div>\n",
              "<style scoped>\n",
              "    .dataframe tbody tr th:only-of-type {\n",
              "        vertical-align: middle;\n",
              "    }\n",
              "\n",
              "    .dataframe tbody tr th {\n",
              "        vertical-align: top;\n",
              "    }\n",
              "\n",
              "    .dataframe thead th {\n",
              "        text-align: right;\n",
              "    }\n",
              "</style>\n",
              "<table border=\"1\" class=\"dataframe\">\n",
              "  <thead>\n",
              "    <tr style=\"text-align: right;\">\n",
              "      <th></th>\n",
              "      <th>Sales</th>\n",
              "    </tr>\n",
              "    <tr>\n",
              "      <th>Department</th>\n",
              "      <th></th>\n",
              "    </tr>\n",
              "  </thead>\n",
              "  <tbody>\n",
              "    <tr>\n",
              "      <th>HR</th>\n",
              "      <td>2200</td>\n",
              "    </tr>\n",
              "    <tr>\n",
              "      <th>IT</th>\n",
              "      <td>3300</td>\n",
              "    </tr>\n",
              "    <tr>\n",
              "      <th>Sales</th>\n",
              "      <td>3000</td>\n",
              "    </tr>\n",
              "  </tbody>\n",
              "</table>\n",
              "</div>"
            ],
            "text/plain": [
              "            Sales\n",
              "Department       \n",
              "HR           2200\n",
              "IT           3300\n",
              "Sales        3000"
            ]
          },
          "execution_count": 55,
          "metadata": {},
          "output_type": "execute_result"
        }
      ],
      "source": [
        "df.groupby('Department')[['Sales']].max()\n"
      ]
    },
    {
      "cell_type": "code",
      "execution_count": 58,
      "id": "fa773d71",
      "metadata": {},
      "outputs": [
        {
          "data": {
            "text/html": [
              "<div>\n",
              "<style scoped>\n",
              "    .dataframe tbody tr th:only-of-type {\n",
              "        vertical-align: middle;\n",
              "    }\n",
              "\n",
              "    .dataframe tbody tr th {\n",
              "        vertical-align: top;\n",
              "    }\n",
              "\n",
              "    .dataframe thead th {\n",
              "        text-align: right;\n",
              "    }\n",
              "</style>\n",
              "<table border=\"1\" class=\"dataframe\">\n",
              "  <thead>\n",
              "    <tr style=\"text-align: right;\">\n",
              "      <th></th>\n",
              "      <th>min</th>\n",
              "      <th>max</th>\n",
              "    </tr>\n",
              "    <tr>\n",
              "      <th>Department</th>\n",
              "      <th></th>\n",
              "      <th></th>\n",
              "    </tr>\n",
              "  </thead>\n",
              "  <tbody>\n",
              "    <tr>\n",
              "      <th>HR</th>\n",
              "      <td>1800</td>\n",
              "      <td>2200</td>\n",
              "    </tr>\n",
              "    <tr>\n",
              "      <th>IT</th>\n",
              "      <td>3100</td>\n",
              "      <td>3300</td>\n",
              "    </tr>\n",
              "    <tr>\n",
              "      <th>Sales</th>\n",
              "      <td>2500</td>\n",
              "      <td>3000</td>\n",
              "    </tr>\n",
              "  </tbody>\n",
              "</table>\n",
              "</div>"
            ],
            "text/plain": [
              "             min   max\n",
              "Department            \n",
              "HR          1800  2200\n",
              "IT          3100  3300\n",
              "Sales       2500  3000"
            ]
          },
          "execution_count": 58,
          "metadata": {},
          "output_type": "execute_result"
        }
      ],
      "source": [
        "df.groupby('Department')['Sales'].agg(['min', 'max'])\n"
      ]
    }
  ],
  "metadata": {
    "colab": {
      "provenance": []
    },
    "kernelspec": {
      "display_name": "venv",
      "language": "python",
      "name": "python3"
    },
    "language_info": {
      "codemirror_mode": {
        "name": "ipython",
        "version": 3
      },
      "file_extension": ".py",
      "mimetype": "text/x-python",
      "name": "python",
      "nbconvert_exporter": "python",
      "pygments_lexer": "ipython3",
      "version": "3.13.2"
    }
  },
  "nbformat": 4,
  "nbformat_minor": 5
}
